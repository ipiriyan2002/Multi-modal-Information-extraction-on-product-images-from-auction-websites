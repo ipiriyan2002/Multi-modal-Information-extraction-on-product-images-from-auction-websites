{
 "cells": [
  {
   "cell_type": "code",
   "execution_count": 29,
   "id": "a9286c86",
   "metadata": {},
   "outputs": [],
   "source": [
    "import os\n",
    "import numpy as np\n",
    "import pandas as pd\n",
    "import torch\n",
    "import torchvision\n",
    "from torchvision.models.detection.rpn import AnchorGenerator\n",
    "import matplotlib.pyplot as plt\n",
    "import torch.nn as nn\n",
    "from PIL import Image, ImageDraw, ImageFont\n",
    "import matplotlib.patches as patches\n",
    "import random\n",
    "import io\n",
    "import utils\n",
    "import preprocess as pre\n",
    "import data_augmentation as aug\n",
    "import DataLoader as dl"
   ]
  },
  {
   "cell_type": "code",
   "execution_count": 21,
   "id": "3d5d2cc4",
   "metadata": {},
   "outputs": [
    {
     "name": "stderr",
     "output_type": "stream",
     "text": [
      "Found cached dataset parquet (C:/Users/ipiri/.cache/huggingface/datasets/naver-clova-ix___parquet/naver-clova-ix--cord-v2-c97f979311033a44/0.0.0/2a3b91fbd88a2c90d1dbbb32b460cf621d31bd5b05b934492fdef7d8d6f236ec)\n",
      "C:\\Users\\ipiri\\anaconda3\\envs\\ip\\lib\\site-packages\\numpy\\core\\fromnumeric.py:3432: RuntimeWarning: Mean of empty slice.\n",
      "  return _methods._mean(a, axis=axis, dtype=dtype,\n",
      "C:\\Users\\ipiri\\anaconda3\\envs\\ip\\lib\\site-packages\\numpy\\core\\_methods.py:190: RuntimeWarning: invalid value encountered in double_scalars\n",
      "  ret = ret.dtype.type(ret / rcount)\n"
     ]
    }
   ],
   "source": [
    "train_loader = dl.getCordTorchDatasetLoader(\"params_cord_initial.yaml\", split='train')"
   ]
  },
  {
   "cell_type": "code",
   "execution_count": 22,
   "id": "07ace880",
   "metadata": {},
   "outputs": [],
   "source": [
    "a = next(iter(train_loader))"
   ]
  },
  {
   "cell_type": "code",
   "execution_count": 26,
   "id": "019792d4",
   "metadata": {},
   "outputs": [
    {
     "data": {
      "text/plain": [
       "torch.Size([512, 512, 3])"
      ]
     },
     "execution_count": 26,
     "metadata": {},
     "output_type": "execute_result"
    }
   ],
   "source": [
    "a[0][0].shape"
   ]
  },
  {
   "cell_type": "code",
   "execution_count": 28,
   "id": "ef6fc841",
   "metadata": {},
   "outputs": [],
   "source": [
    "class RegionProposalNetwork(nn.Module):\n",
    "    def __init__(self, in_channels, out_channels, anchor_sizes, aspect_ratios, num_classes):\n",
    "        self.in_channels = in_channels\n",
    "        self.out_channels = out_channels\n",
    "        self.anchor_sizes = anchor_sizes\n",
    "        self.aspect_ratios = aspect_ratios\n",
    "        self.num_classes = num_classes #number of classes including background class (0)\n",
    "        \n",
    "        # Defining RPN layers\n",
    "        self.conv1 = nn.Conv2d(in_channels, out_channels, kernel_size=3, stride=1, padding=1)\n",
    "        \n",
    "        self.bbox_head = nn.Conv2d(out_channels, len(anchor_sizes) * 4, kernel_size=1, stride=1, padding=0)\n",
    "        self.conf_head = nn.Conv2d(out_channels, len(anchor_sizes) * num_classes, kernel_size=1, stride=1, padding=0)\n",
    "    \n",
    "        # Initialising Parameters for RPN layers\n",
    "        self.initModelParams(self.conv1, 0, std=0.01)\n",
    "        self.initModelParams(self.bbox_head, 0, std=0.01)\n",
    "        self.initModelParams(self.conf_head, 0, std=0.01)\n",
    "        \n",
    "    def initModelParams(self, layer, mean, std):\n",
    "        #Initial weights with respect to given mean and standard deviation\n",
    "        nn.init.normal_(layer.weight, mean=mean, std=std)\n",
    "        #Initial bias set to 0\n",
    "        nn.init.constant_(layer.bias, 0)\n",
    "    \n",
    "    def forward(self, x):\n",
    "        #Applying the ReLU function on the output of the conv1 layer (which is basically applying 3x3 conv on the given feature map\n",
    "        x = nn.functional.relu(self.conv1)\n",
    "        \n",
    "        return self.bbox_head(x), self.conf_head(x)"
   ]
  },
  {
   "cell_type": "code",
   "execution_count": null,
   "id": "a353101b",
   "metadata": {},
   "outputs": [],
   "source": [
    "rpn = RegionProposalNetwork(512, 512, )"
   ]
  }
 ],
 "metadata": {
  "kernelspec": {
   "display_name": "Python 3 (ipykernel)",
   "language": "python",
   "name": "python3"
  },
  "language_info": {
   "codemirror_mode": {
    "name": "ipython",
    "version": 3
   },
   "file_extension": ".py",
   "mimetype": "text/x-python",
   "name": "python",
   "nbconvert_exporter": "python",
   "pygments_lexer": "ipython3",
   "version": "3.9.16"
  }
 },
 "nbformat": 4,
 "nbformat_minor": 5
}
