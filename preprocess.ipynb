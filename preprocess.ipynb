{
 "cells": [
  {
   "cell_type": "code",
   "execution_count": 79,
   "id": "ffe186f2",
   "metadata": {
    "pycharm": {
     "name": "#%%\n"
    }
   },
   "outputs": [
    {
     "name": "stdout",
     "output_type": "stream",
     "text": [
      "INSTALLING LIBRARIES....\n",
      "LIBRARIES INSTALLED!\n"
     ]
    }
   ],
   "source": [
    "%matplotlib inline\n",
    "#inline magic command to make sure all pictures are in line with each cell\n",
    "\n",
    "#Installing libraries\n",
    "print(\"INSTALLING LIBRARIES....\")\n",
    "import numpy as np\n",
    "import pandas as pd\n",
    "import tensorflow as tf\n",
    "import tensorflow.keras as keras\n",
    "from tensorflow.keras.preprocessing.image import img_to_array\n",
    "import matplotlib.pyplot as plt\n",
    "from PIL import Image, ImageDraw, ImageFont\n",
    "import matplotlib.patches as patches\n",
    "import random\n",
    "import io\n",
    "print(\"LIBRARIES INSTALLED!\")"
   ]
  },
  {
   "cell_type": "code",
   "execution_count": 63,
   "id": "5fa0359b",
   "metadata": {},
   "outputs": [],
   "source": [
    "dataset_path = \"./cord-v2/data/\""
   ]
  },
  {
   "cell_type": "code",
   "execution_count": 133,
   "id": "ca80b433",
   "metadata": {},
   "outputs": [],
   "source": [
    "\"\"\"\n",
    "Getter function to get the training dataset given the source path\n",
    "Parameters:\n",
    "src_path : String\n",
    "\n",
    "Return:\n",
    "images : numpy array format for each image in the training dataset\n",
    "labels : dict form of the labels for each image\n",
    "\"\"\"\n",
    "def getTrainDataset(src_path):\n",
    "    train_files = [\"train-00000-of-00004-b4aaeceff1d90ecb.parquet\", \"train-00001-of-00004-7dbbe248962764c5.parquet\",\n",
    "                   \"train-00002-of-00004-688fe1305a55e5cc.parquet\", \"train-00003-of-00004-2d0cd200555ed7fd.parquet\"]\n",
    "    \n",
    "    \n",
    "    train1 = pd.read_parquet(src_path + train_files[0])\n",
    "    train2 = pd.read_parquet(src_path + train_files[1])\n",
    "    train3 = pd.read_parquet(src_path + train_files[2])\n",
    "    train4 = pd.read_parquet(src_path + train_files[3])\n",
    "\n",
    "    train_dataset = pd.concat([train1, train2, train3, train4], ignore_index=True)\n",
    "    \n",
    "    byte_dicts = train_dataset[\"image\"]\n",
    "    labels_pd = train_dataset[\"ground_truth\"]\n",
    "    images = [Image.open(io.BytesIO(img[\"bytes\"])) for img in byte_dicts]\n",
    "    labels = [label for label in labels_pd]\n",
    "    \n",
    "    return images, labels"
   ]
  },
  {
   "cell_type": "code",
   "execution_count": 136,
   "id": "cd4e3dc4",
   "metadata": {},
   "outputs": [],
   "source": [
    "\"\"\"\n",
    "Getter function to get the validation dataset given the source path\n",
    "Parameters:\n",
    "src_path : String\n",
    "\n",
    "Return:\n",
    "images : numpy array format for each image in the validation dataset\n",
    "labels : dict form of the labels for each image\n",
    "\"\"\"\n",
    "def getValDataset(src_path):\n",
    "    val_file = \"validation-00000-of-00001-cc3c5779fe22e8ca.parquet\"\n",
    "    \n",
    "    val_dataset = pd.read_parquet(src_path + val_file)\n",
    "    \n",
    "    byte_dicts = val_dataset[\"image\"]\n",
    "    labels_pd = val_dataset[\"ground_truth\"]\n",
    "    images = [Image.open(io.BytesIO(img[\"bytes\"])) for img in byte_dicts]\n",
    "    labels = [label for label in labels_pd]\n",
    "    \n",
    "    return images, labels"
   ]
  },
  {
   "cell_type": "code",
   "execution_count": 137,
   "id": "e50c00ae",
   "metadata": {},
   "outputs": [],
   "source": [
    "\"\"\"\n",
    "Getter function to get the Test dataset given the source path\n",
    "Parameters:\n",
    "src_path : String\n",
    "\n",
    "Return:\n",
    "images : numpy array format for each image in the Test dataset\n",
    "labels : dict form of the labels for each image\n",
    "\"\"\"\n",
    "def getValDataset(src_path):\n",
    "    test_file = \"test-00000-of-00001-9c204eb3f4e11791.parquet\"\n",
    "    \n",
    "    test_dataset = pd.read_parquet(src_path + test_file)\n",
    "    \n",
    "    byte_dicts = test_dataset[\"image\"]\n",
    "    labels_pd = test_dataset[\"ground_truth\"]\n",
    "    images = [Image.open(io.BytesIO(img[\"bytes\"])) for img in byte_dicts]\n",
    "    labels = [label for label in labels_pd]\n",
    "    \n",
    "    return images, labels"
   ]
  },
  {
   "cell_type": "code",
   "execution_count": 134,
   "id": "392375d2",
   "metadata": {},
   "outputs": [],
   "source": [
    "train_images, train_labels = getTrainDataset(dataset_path)"
   ]
  },
  {
   "cell_type": "markdown",
   "id": "af8e84d2",
   "metadata": {
    "pycharm": {
     "name": "#%% md\n"
    }
   },
   "source": [
    "A label for training data when evaluated using **eval** function gives the following keys:\n",
    "'gt_parse', 'meta', 'valid_line', 'roi', 'repeating_symbol', 'dontcare'\n",
    "\n",
    "We do not need: 'roi', 'repeating_symbol' and 'dontcare\n",
    "\n",
    "gt_parse: Tells us information that we do not need for the problem of region detection\n",
    "meta: Tells us information such as width, height, id of image\n",
    "valid_line: **IMPORTANT** for this problem as it gives us all the coordinates of each text point in image"
   ]
  },
  {
   "cell_type": "code",
   "execution_count": 138,
   "id": "2df1382a",
   "metadata": {
    "pycharm": {
     "name": "#%%\n"
    }
   },
   "outputs": [],
   "source": [
    "IMG_SIZE = 256\n",
    "MAX_LABELS = 22"
   ]
  },
  {
   "cell_type": "code",
   "execution_count": 139,
   "id": "3c46c7cb",
   "metadata": {
    "pycharm": {
     "name": "#%%\n"
    }
   },
   "outputs": [],
   "source": [
    "\"\"\"\n",
    "Defining function to retreive [x1, y1, x3, y3] coordinates of each datapoint\n",
    "Retreiving coordinates with category == menu.price\n",
    "\"\"\"\n",
    "def retreiveCoordinates(labels):\n",
    "    coords = []\n",
    "    vline = labels[\"valid_line\"]\n",
    "    #Using a nested loop to get all coordinates for given label\n",
    "    for line in vline: #run through n lines for label\n",
    "        if (line[\"category\"] == \"menu.price\"): # Retreiving only prices from labels\n",
    "            words = line['words']\n",
    "            for word in words: #run through n words in each line and retreive the coordinates of said word\n",
    "                quad = word['quad']\n",
    "                box = [quad['x1'], quad['y1'], quad['x3'], quad['y3']]\n",
    "                coords.append(box)\n",
    "    \n",
    "    return coords"
   ]
  },
  {
   "cell_type": "code",
   "execution_count": 140,
   "id": "9dc9c77e",
   "metadata": {
    "pycharm": {
     "name": "#%%\n"
    }
   },
   "outputs": [],
   "source": [
    "\"\"\"\n",
    "Defining function to get (min x1, min y1, max x3, max y3)\n",
    "\"\"\"\n",
    "\n",
    "def singleBoxCoord(label):\n",
    "    coords = retreiveCoordinates(label)\n",
    "    x1 = [coord[0] for coord in coords] #Get all x1\n",
    "    y1 = [coord[1] for coord in coords] #Get all y1\n",
    "    x3 = [coord[2] for coord in coords] #Get all x3\n",
    "    y3 = [coord[3] for coord in coords] #Get all y3\n",
    "    \n",
    "    PAD = 20 #pad the bounding boxes to get dense box\n",
    "    \n",
    "    singleBox = [min(x1)-PAD, min(y1)-PAD, max(x3)+PAD, max(y3)+PAD] #define the dense bounding box\n",
    "    return singleBox"
   ]
  },
  {
   "cell_type": "code",
   "execution_count": 141,
   "id": "c8dea145",
   "metadata": {
    "pycharm": {
     "name": "#%%\n"
    }
   },
   "outputs": [],
   "source": [
    "\"\"\"\n",
    "Defining a displaying function to display images with dense box on them\n",
    "\"\"\"\n",
    "def showDBox(img_index):\n",
    "    img = train_images[img_index]\n",
    "    img_label = eval(train_labels[img_index])\n",
    "    width, height = img_label['meta']['image_size']['width'], img_label['meta']['image_size']['height']\n",
    "    dBox_img = singleBoxCoord(img_label)\n",
    "    fig, ax = plt.subplots() #make a subplot\n",
    "\n",
    "    ax.imshow(img) #draw the image on the axis of the subplots\n",
    "    x1 = dBox_img[0]\n",
    "    y1 = dBox_img[1]\n",
    "    x3 = dBox_img[2]\n",
    "    y3 = dBox_img[3]\n",
    "    rect = patches.Rectangle((x1, y1), (x3-x1), (y3-y1), linewidth=1, edgecolor='g', facecolor='none')\n",
    "    #Draw a rectangle using bounding boxes \n",
    "    ax.add_patch(rect)\n",
    "\n",
    "    plt.title(\"WxH: ({0},{1}) | {2}\".format(width, height, dBox_img))\n",
    "    plt.axis('off')\n",
    "    plt.show()"
   ]
  },
  {
   "cell_type": "code",
   "execution_count": 142,
   "id": "a2efd51e",
   "metadata": {},
   "outputs": [],
   "source": [
    "\"\"\"\n",
    "Defining a displaying function to display images with dense box on them\n",
    "\"\"\"\n",
    "def showBBox(img_index):\n",
    "    img = train_images[img_index]\n",
    "    img_label = eval(train_labels[img_index])\n",
    "    width, height = img_label['meta']['image_size']['width'], img_label['meta']['image_size']['height']\n",
    "    bbox_coords = retreiveCoordinates(img_label)\n",
    "    fig, ax = plt.subplots() #make a subplot\n",
    "\n",
    "    ax.imshow(img) #draw the image on the axis of the subplots\n",
    "    \n",
    "    for bbox in bbox_coords:\n",
    "        x1, y1, x3, y3 = bbox\n",
    "        rect = patches.Rectangle((x1, y1), (x3-x1), (y3-y1), linewidth=1, edgecolor='g', facecolor='none')\n",
    "        #Draw a rectangle using bounding boxes \n",
    "        ax.add_patch(rect)\n",
    "\n",
    "    plt.title(\"WxH: ({0},{1})\".format(width, height))\n",
    "    plt.axis('off')\n",
    "    plt.show()"
   ]
  },
  {
   "cell_type": "code",
   "execution_count": 178,
   "id": "4d0b5e3f",
   "metadata": {
    "pycharm": {
     "name": "#%%\n"
    }
   },
   "outputs": [],
   "source": [
    "\"\"\"\n",
    "Defining pre-process function for images\n",
    "\"\"\"\n",
    "def pre_process_images(images):\n",
    "    resized_images = [img_to_array(image.resize((IMG_SIZE, IMG_SIZE))) for image in images]\n",
    "    \n",
    "    np_images = np.array(resized_images, dtype='float32') / 255.0\n",
    "    return np_images"
   ]
  },
  {
   "cell_type": "code",
   "execution_count": 151,
   "id": "5ecdb1ec",
   "metadata": {
    "pycharm": {
     "name": "#%%\n"
    }
   },
   "outputs": [],
   "source": [
    "\"\"\"\n",
    "Defining a function to return the IoU loss of two bboxes\n",
    "\"\"\"\n",
    "def inter_over_union(dBoxA, dBoxB):\n",
    "    inter_x1 = max(dBoxA[0], dBoxB[0])\n",
    "    inter_y1 = max(dBoxA[1], dBoxB[1])\n",
    "    inter_x3 = min(dBoxA[2], dBoxB[2])\n",
    "    inter_y3 = min(dBoxA[3], dBoxB[3])\n",
    "    \n",
    "    if (inter_x3 < inter_x1) or (inter_y3 < inter_y1):\n",
    "        return 0\n",
    "    \n",
    "    inter_area = (inter_x3 - inter_x1) * (inter_y3 - inter_y1)\n",
    "    \n",
    "    union_A = (dBoxA[2] - dBoxA[0]) * (dBoxA[3] - dBoxA[1])\n",
    "    union_B = (dBoxB[2] - dBoxB[0]) * (dBoxB[3] - dBoxB[1])\n",
    "    \n",
    "    union_area = (union_A + union_B) - inter_area\n",
    "    \n",
    "    return (inter_area / union_area)"
   ]
  },
  {
   "cell_type": "code",
   "execution_count": 184,
   "id": "fa01e2eb",
   "metadata": {
    "pycharm": {
     "name": "#%%\n"
    }
   },
   "outputs": [],
   "source": [
    "\"\"\"\n",
    "Generates a bbox defined around the centre coordinate\n",
    "\n",
    "Done so for the CORD dataset as the prices are not available at the centre at this BBox can be used to get the negative bboxes for the image training data\n",
    "\"\"\"\n",
    "def generateBBox(width, height):\n",
    "    centre = [0.5 * width, 0.5 * height]\n",
    "    \n",
    "    padd_w = width / 100 if width > 1000 else width / 10\n",
    "    padd_h = height / 100 if height > 1000 else height / 10\n",
    "    \n",
    "    return [centre[0], centre[1], centre[0] + padd_w, centre[1] + padd_h]"
   ]
  },
  {
   "cell_type": "code",
   "execution_count": 185,
   "id": "024c6580",
   "metadata": {
    "pycharm": {
     "name": "#%%\n"
    }
   },
   "outputs": [],
   "source": [
    "# Returns a list of random numbers given a value\n",
    "# Used to randomly return a list of coordinates given the width/height of an image as a base\n",
    "def genListRandNumber(max_val):\n",
    "    \n",
    "    list_of_vals = []\n",
    "    while len(list_of_vals) < 3:\n",
    "        list_of_vals = [random.randint(0, max_val) for i in range(10)]\n",
    "        list_of_vals = list(set(list_of_vals))\n",
    "    \n",
    "    return list_of_vals\n",
    "\n",
    "# Returns a randomly generated DBox\n",
    "# Used to get a negative class (0) DBox for an image\n",
    "def getNegDBox(width, height):\n",
    "    xs = genListRandNumber(width)\n",
    "    ys = genListRandNumber(height)\n",
    "    \n",
    "    x1, y1 = min(xs), min(ys)\n",
    "    x3, y3 = max(xs), max(ys)\n",
    "    \n",
    "    return [x1, y1, x3, y3]\n",
    "\n",
    "# Generates the negative class (0) DBox given the positive class DBox(1) using Intersection-over-Union method\n",
    "def generateNegBox(dBox, width, height, multiple=False):\n",
    "    negBox = [0,0,0,0]\n",
    "    iou = 1\n",
    "    \n",
    "    while iou > 0.3:\n",
    "        negBox = getNegDBox(width, height)\n",
    "        if not(multiple):\n",
    "            iou = inter_over_union(dBox, negBox)\n",
    "        else:\n",
    "            ious = [inter_over_union(box, negBox) for box in dBox]\n",
    "            #print(dBox)\n",
    "            l_iou = len(ious)\n",
    "            iou = sum(ious) / l_iou\n",
    "    \n",
    "    return negBox\n",
    "\n",
    "\"\"\"\n",
    "Generates N number of negative boxes and also deals with cases of no positive boxes\n",
    "\"\"\"\n",
    "def generateNNegBox(count, bBoxes, width, height):\n",
    "    \n",
    "    negBoxes = []\n",
    "    randBox = bBoxes\n",
    "    if (len(bBoxes) == 0):\n",
    "        randBox = [generateBBox(width, height)]\n",
    "    \n",
    "    for i in range(count):\n",
    "        negBox = generateNegBox(randBox, width, height, multiple=True)\n",
    "        \n",
    "        while negBox in negBoxes:\n",
    "            negBox = generateNegBox(randBox, width, height, multiple=True)\n",
    "        \n",
    "        negBoxes.append(negBox)\n",
    "    \n",
    "    return negBoxes"
   ]
  },
  {
   "cell_type": "code",
   "execution_count": 186,
   "id": "b90dc792",
   "metadata": {
    "pycharm": {
     "name": "#%%\n"
    }
   },
   "outputs": [],
   "source": [
    "def normalize(bbox, width, height):\n",
    "    return [\n",
    "        bbox[0] / width,\n",
    "        bbox[1] / height,\n",
    "        bbox[2] / width,\n",
    "        bbox[3] / height\n",
    "           ]\n",
    "\n",
    "# defining a function to up-sample the 1 confidence bboxes with handling for cases with 0 1 confidence boxes\n",
    "# Returns the bboxes and confidence scores in list format\n",
    "def duplicateOneConf(bboxes, width, height):\n",
    "    if (len(bboxes) >= MAX_LABELS):\n",
    "        outBoxes = bboxes[:MAX_LABELS]\n",
    "        outScores = [1] * MAX_LABELS\n",
    "        return outBoxes, outScores\n",
    "    elif (len(bboxes) == 0):\n",
    "        negBoxes = generateNNegBox(MAX_LABELS, [], width, height)\n",
    "        outBoxes = negBoxes\n",
    "        outScores = [0] * MAX_LABELS\n",
    "        return outBoxes, outScores\n",
    "        \n",
    "    dupBoxes = bboxes * (int(MAX_LABELS / len(bboxes)) + 1)\n",
    "    \n",
    "    outBoxes = dupBoxes[:MAX_LABELS]\n",
    "    outScores = [1] * MAX_LABELS\n",
    "    \n",
    "    return outBoxes, outScores\n",
    "    "
   ]
  },
  {
   "cell_type": "code",
   "execution_count": 190,
   "id": "09540fe8",
   "metadata": {
    "pycharm": {
     "name": "#%%\n"
    }
   },
   "outputs": [
    {
     "name": "stdout",
     "output_type": "stream",
     "text": [
      "Defining pre-process function for labels\n"
     ]
    }
   ],
   "source": [
    "\"\"\"\n",
    "Defining pre-process function for labels\n",
    "\"\"\"\n",
    "\n",
    "\"\"\"\n",
    "Preprocess function for a single big box\n",
    "\"\"\"\n",
    "def pre_process_label_single(label):\n",
    "    pos_and_negs = []\n",
    "    conf_scores = []\n",
    "    ev_lab = eval(label)\n",
    "    width, height = ev_lab['meta']['image_size']['width'], ev_lab['meta']['image_size']['height']\n",
    "    dBox = singleBoxCoord(ev_lab)\n",
    "    #normalize the dbox coordinates using original width and height such that the values are between 0 and 1\n",
    "    pos_labels = normalize(dBox, width, height)\n",
    "\n",
    "    \n",
    "    pos_and_negs.append(pos_labels) #Adding the positive (correct dBox coordinates) sample | 1 denotes correct dBox\n",
    "    conf_scores.append(1)\n",
    "    negBox = generateNegBox(dBox, width, height)\n",
    "    \n",
    "    neg_labels = normalize(negBox, width, height)\n",
    "    \n",
    "\n",
    "    pos_and_negs.append(neg_labels)\n",
    "    conf_scores.append(0)\n",
    "        \n",
    "    return pos_and_negs, conf_scores\n",
    "\n",
    "\"\"\"\n",
    "Preprocess function for multiple bboxes\n",
    "\"\"\"\n",
    "def pre_process_label_dense(label):\n",
    "    ev_lab = eval(label)\n",
    "    width, height = ev_lab['meta']['image_size']['width'], ev_lab['meta']['image_size']['height']\n",
    "    retBoxes = retreiveCoordinates(ev_lab)\n",
    "    num_pos_boxes = len(retBoxes)\n",
    "    conf_scores = [1] * num_pos_boxes\n",
    "    bBoxes_norm = [normalize(box, width, height) for box in retBoxes]\n",
    "    \n",
    "    outBoxes = []\n",
    "    outScores = []\n",
    "    remaining = MAX_LABELS - num_pos_boxes\n",
    "    \n",
    "\n",
    "    if (num_pos_boxes >= MAX_LABELS):\n",
    "        return bBoxes_norm[:MAX_LABELS], conf_scores[:MAX_LABELS]\n",
    "    else:\n",
    "        # Deal with cases where bBoxes_norm has len = 0\n",
    "        outBoxes.extend(bBoxes_norm)\n",
    "        outScores.extend(conf_scores)\n",
    "        remaining = MAX_LABELS - len(bBoxes_norm)\n",
    "    \n",
    "    nNegBoxes = generateNNegBox(remaining, retBoxes, width, height)\n",
    "    nNegBoxes_norm = [normalize(box, width, height) for box in nNegBoxes]\n",
    "    nConf_scores = [0] * len(nNegBoxes_norm)\n",
    "    outBoxes.extend(nNegBoxes_norm)\n",
    "    outScores.extend(nConf_scores)\n",
    "    \n",
    "    return outBoxes, outScores\n",
    "\n",
    "\"\"\"\n",
    "Common preprocessing function that does either dense or single box label preprocessing\n",
    "\"\"\"\n",
    "def pre_process_labels(labels, dense=False):\n",
    "    new_labels = []\n",
    "    confScores = []\n",
    "    for label in labels:\n",
    "        #pre-process each label\n",
    "        if not(dense):\n",
    "            nLabel, confScore = pre_process_label(label)\n",
    "            new_labels.extend(nLabel)\n",
    "            confScores.extend(confScore)\n",
    "        else:\n",
    "            nLabel, confScore = pre_process_label_dense(label)\n",
    "            new_labels.append(nLabel)\n",
    "            confScores.append(confScore)\n",
    "        \n",
    "    new_labels = np.array(new_labels)\n",
    "    confScores = np.array(confScores)\n",
    "    \n",
    "    return new_labels, confScores"
   ]
  }
 ],
 "metadata": {
  "kernelspec": {
   "display_name": "Python 3 (ipykernel)",
   "language": "python",
   "name": "python3"
  },
  "language_info": {
   "codemirror_mode": {
    "name": "ipython",
    "version": 3
   },
   "file_extension": ".py",
   "mimetype": "text/x-python",
   "name": "python",
   "nbconvert_exporter": "python",
   "pygments_lexer": "ipython3",
   "version": "3.10.9"
  }
 },
 "nbformat": 4,
 "nbformat_minor": 5
}
